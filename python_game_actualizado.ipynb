{
 "cells": [
  {
   "cell_type": "code",
   "outputs": [],
   "source": [
    "import pandas as pd\n",
    "import numpy as np\n",
    "import matplotlib.pyplot as plt\n",
    "import getpass\n",
    "import ast\n",
    "from time import sleep \n",
    "from random import randint\n",
    "from IPython.display import clear_output"
   ],
   "metadata": {
    "collapsed": false,
    "ExecuteTime": {
     "end_time": "2024-10-30T11:41:34.950282Z",
     "start_time": "2024-10-30T11:41:34.944344400Z"
    }
   },
   "id": "73c7c60873be9f35",
   "execution_count": 154
  },
  {
   "cell_type": "code",
   "outputs": [],
   "source": [
    "# este es mi módulo\n",
    "import mi_modulo"
   ],
   "metadata": {
    "collapsed": false,
    "ExecuteTime": {
     "end_time": "2024-10-30T11:41:34.952284700Z",
     "start_time": "2024-10-30T11:41:34.948417800Z"
    }
   },
   "id": "67c295490e8728ff",
   "execution_count": 155
  },
  {
   "cell_type": "code",
   "outputs": [],
   "source": [
    "# función para comparar los números\n",
    "def comparar_numero(numero1, numero2):\n",
    "        if numero2 > numero1:\n",
    "            print(\"El número que has seleccionado es superior al número a adivinar.\")\n",
    "            acierto = 0\n",
    "            sleep(0.3)\n",
    "        if numero2 < numero1:\n",
    "            print(\"El número que has seleccionado es inferior al número a adivinar.\")\n",
    "            acierto = 0\n",
    "            sleep(0.3)\n",
    "        if numero1 == numero2:\n",
    "            print(\"Has acertado el número.\")\n",
    "            acierto = 1\n",
    "            sleep(0.3)\n",
    "            return acierto    # queremos que si el valor es igual se salga del bucle\n",
    "        return acierto"
   ],
   "metadata": {
    "collapsed": false,
    "ExecuteTime": {
     "end_time": "2024-10-30T11:41:34.956764600Z",
     "start_time": "2024-10-30T11:41:34.953284Z"
    }
   },
   "id": "c4d4b2ee4f7a7759",
   "execution_count": 156
  },
  {
   "cell_type": "code",
   "outputs": [],
   "source": [
    "# función seleccionar todas las Estadísitcas\n",
    "def estadis_total (jugador):\n",
    "    df_estadis = pd.read_excel(\"Datos.xlsx\")\n",
    "    variable = df_estadis.iloc[jugador]\n",
    "    print(variable)"
   ],
   "metadata": {
    "collapsed": false,
    "ExecuteTime": {
     "end_time": "2024-10-30T11:41:34.964368600Z",
     "start_time": "2024-10-30T11:41:34.957765100Z"
    }
   },
   "id": "fcf6f63bca6423a6",
   "execution_count": 157
  },
  {
   "cell_type": "code",
   "outputs": [],
   "source": [
    "# función para hacer el gráfico de intentos del jugador\n",
    "def grafico (jugador):\n",
    "    df_grafico = pd.read_excel(\"Datos.xlsx\")\n",
    "    lista_jug = df_grafico.iloc[jugador, 1]\n",
    "    lista_num = ast.literal_eval(lista_jug) # esto convierte los character a numeric\n",
    "    plt.plot(lista_num)\n",
    "    plt.title(\"Gráfica de Valores\")\n",
    "    plt.xlabel(\"Intento\")\n",
    "    plt.ylabel(\"Valor\")\n",
    "    plt.grid(True)\n",
    "    plt.show()"
   ],
   "metadata": {
    "collapsed": false,
    "ExecuteTime": {
     "end_time": "2024-10-30T11:41:34.965369600Z",
     "start_time": "2024-10-30T11:41:34.963367100Z"
    }
   },
   "id": "4f494918d9ad5331",
   "execution_count": 158
  },
  {
   "cell_type": "code",
   "outputs": [],
   "source": [
    "# función para hacer la media de intentos del jugador\n",
    "def media_jug(jugador):\n",
    "    df_lista = pd.read_excel(\"Datos.xlsx\")\n",
    "    lista_jug = df_lista.iloc[jugador, 1]\n",
    "    lista_num = ast.literal_eval(lista_jug)\n",
    "    media = np.mean(lista_num)\n",
    "    print(round(media,2))"
   ],
   "metadata": {
    "collapsed": false,
    "ExecuteTime": {
     "end_time": "2024-10-30T11:41:34.969355700Z",
     "start_time": "2024-10-30T11:41:34.965369600Z"
    }
   },
   "id": "59f438a5e0a4d376",
   "execution_count": 159
  },
  {
   "cell_type": "code",
   "outputs": [],
   "source": [
    "# función para saber si el jugador acierta o no\n",
    "def acierto_o_no(jugador):\n",
    "    df_lista = pd.read_excel(\"Datos.xlsx\")\n",
    "    acierto_sn = df_lista.iloc[jugador, 4]\n",
    "    print(acierto_sn)"
   ],
   "metadata": {
    "collapsed": false,
    "ExecuteTime": {
     "end_time": "2024-10-30T11:41:34.992308900Z",
     "start_time": "2024-10-30T11:41:34.969355700Z"
    }
   },
   "id": "efc58aa8347905a4",
   "execution_count": 160
  },
  {
   "cell_type": "code",
   "outputs": [],
   "source": [
    "def estadistica():\n",
    "    try:\n",
    "        # Cargar el archivo de datos\n",
    "        df = pd.read_excel(\"Datos.xlsx\")\n",
    "        nombres_jugadores = df.iloc[:, 0]\n",
    "        print(f\"Jugadores disponibles: \\n{nombres_jugadores}\")\n",
    "        sleep(0.3)\n",
    "        \n",
    "        # Selección de jugador\n",
    "        while True:\n",
    "            clear_output(wait=True)\n",
    "            try:\n",
    "                jugador_n = int(input(f\"Selecciona el jugador cuyos datos desea leer (0 - {len(nombres_jugadores) - 1}): \"))\n",
    "                \n",
    "                # Verifica que el número esté dentro del rango\n",
    "                if 0 <= jugador_n < len(nombres_jugadores):\n",
    "                    break\n",
    "                else:\n",
    "                    print(\"Error: El número ingresado está fuera del rango. Intenta nuevamente.\")\n",
    "                    sleep(0.5)\n",
    "            except ValueError:\n",
    "                print(\"Error: Por favor, ingresa un número entero válido.\")\n",
    "                sleep(0.5)\n",
    "\n",
    "        # Menú de selección de estadísticas\n",
    "        while True:    \n",
    "            try:\n",
    "                estadistica_selecc = int(input(f\"\\nMENU:\\n\"\n",
    "                                               f\"Selecciona 0, 1, 2, 3 o 4.\\n\"\n",
    "                                               f\"0. Estadísticas completas.\\n\"\n",
    "                                               f\"1. Gráfico intentos.\\n\"\n",
    "                                               f\"2. Media de selección.\\n\"\n",
    "                                               f\"3. Acierto o no.\\n\"\n",
    "                                               f\"4. Atrás.\\n\"))\n",
    "                \n",
    "                # Asegura que el valor esté en las opciones disponibles\n",
    "                if estadistica_selecc in [0, 1, 2, 3, 4]:\n",
    "                    return estadistica_selecc, jugador_n\n",
    "                else:\n",
    "                    print(\"El valor debe ser 0, 1, 2, 3 o 4.\")\n",
    "                    sleep(0.5)\n",
    "            except ValueError:\n",
    "                print(\"Error: Por favor, ingresa un número entero válido.\")\n",
    "                sleep(0.5)\n",
    "\n",
    "    except FileNotFoundError:\n",
    "        print(\"Error: El archivo 'Datos.xlsx' no se encontró.\")\n",
    "        sleep(0.2)\n",
    "    except Exception as e:\n",
    "        print(f\"Ocurrió un error al leer el archivo: {e}\")\n",
    "        sleep(0.2)\n"
   ],
   "metadata": {
    "collapsed": false,
    "ExecuteTime": {
     "end_time": "2024-10-30T11:41:34.993309100Z",
     "start_time": "2024-10-30T11:41:34.975203600Z"
    }
   },
   "id": "2db3e47109c7b663",
   "execution_count": 161
  },
  {
   "cell_type": "code",
   "outputs": [],
   "source": [
    "# para utilizar la seleccion\n",
    "def operaciones(estadistico, jugador):\n",
    "    if estadistico == 0:\n",
    "        estadis_total(jugador)\n",
    "        sleep(1)\n",
    "    if estadistico == 1:\n",
    "        grafico(jugador)\n",
    "        sleep(1)\n",
    "    if estadistico == 2:\n",
    "        media_jug(jugador)\n",
    "        sleep(1)\n",
    "    if estadistico == 3:\n",
    "        acierto_o_no(jugador)  \n",
    "        sleep(1)"
   ],
   "metadata": {
    "collapsed": false,
    "ExecuteTime": {
     "end_time": "2024-10-30T11:41:34.993309100Z",
     "start_time": "2024-10-30T11:41:34.979443900Z"
    }
   },
   "id": "c312cc941b262e96",
   "execution_count": 162
  },
  {
   "cell_type": "code",
   "outputs": [],
   "source": [
    "# función seleccionar modo\n",
    "def seleccionar_modo():\n",
    "    while True:\n",
    "        try:\n",
    "            selec_modo = int(input(f\"MENU:\\n\"\n",
    "                            f\"Selecciona 1, 2, 3 o 4.\\n\"\n",
    "                            f\"1. Partida modo solitario.\\n\"\n",
    "                            f\"2. Partida 2 jugadores.\\n\"\n",
    "                            f\"3. Estadística.\\n\"\n",
    "                            f\"4. Salir.\"))\n",
    "            if selec_modo not in [1, 2, 3, 4]:  # nos aseguramos que el valor sea el que queremos \n",
    "                raise ValueError\n",
    "            return selec_modo\n",
    "        except ValueError:\n",
    "            print(\"El valor debe ser 1, 2, 3 o 4\")\n",
    "            sleep(0.7)"
   ],
   "metadata": {
    "collapsed": false,
    "ExecuteTime": {
     "end_time": "2024-10-30T11:41:34.994556800Z",
     "start_time": "2024-10-30T11:41:34.983342600Z"
    }
   },
   "id": "88cbdbadf87f1c33",
   "execution_count": 163
  },
  {
   "cell_type": "code",
   "outputs": [],
   "source": [
    "# función seleccionar dificultad adaptada\n",
    "def seleccionar_dificultad_adaptada():\n",
    "    while True:\n",
    "        try:\n",
    "            selec_dificultad_adaptativa = int(input(f\"DIFICULTAD ADAPTADA:\\n\"\n",
    "                                            f\"Selecciona 1, 2, 3 o 4.\\n\"\n",
    "                                            f\"1. Rango 500.\\n\"\n",
    "                                            f\"2. Rango 1500.\\n\"\n",
    "                                            f\"3. Rango 3000.\\n\"\n",
    "                                            f\"4. No.\"))\n",
    "            if selec_dificultad_adaptativa not in [1, 2, 3, 4]:   # nos aseguramos que el valor sea el que queremos \n",
    "                raise ValueError\n",
    "            break\n",
    "        except ValueError:\n",
    "            print(\"El valor debe ser 1, 2, 3 o 4\")\n",
    "            sleep(0.7)\n",
    "# asignamos los valores de los intentos a continuación y el valor de salida\n",
    "    if selec_dificultad_adaptativa == 1:\n",
    "        devuelve_dificultad_adaptativa = 500\n",
    "    if selec_dificultad_adaptativa == 2:\n",
    "        devuelve_dificultad_adaptativa = 1500\n",
    "    if selec_dificultad_adaptativa == 3:\n",
    "        devuelve_dificultad_adaptativa = 3000\n",
    "    if selec_dificultad_adaptativa == 4:\n",
    "        devuelve_dificultad_adaptativa = 1000\n",
    "    return devuelve_dificultad_adaptativa"
   ],
   "metadata": {
    "collapsed": false,
    "ExecuteTime": {
     "end_time": "2024-10-30T11:41:34.994556800Z",
     "start_time": "2024-10-30T11:41:34.988504600Z"
    }
   },
   "id": "24ff1aeb54a80da5",
   "execution_count": 164
  },
  {
   "cell_type": "code",
   "outputs": [],
   "source": [
    "# para generar el número con el que comparar\n",
    "def aleatorizar_o_no(seleccion):\n",
    "    rango = seleccionar_dificultad_adaptada()  # Esto nos va a permitir jugar con el rango\n",
    "    if seleccion == 1:\n",
    "        numero_generado = randint(1, rango)\n",
    "        return numero_generado, rango  # Asegúrate de retornar el número generado\n",
    "    \n",
    "    elif seleccion == 2:\n",
    "        while True:\n",
    "            try:\n",
    "                numero_generado = int(getpass.getpass(f\"Ingrese un número del 1 al {rango}: \"))\n",
    "                if numero_generado < 1 or numero_generado > rango:  # nos aseguramos que esté dentro del rango\n",
    "                    raise ValueError\n",
    "                return numero_generado, rango\n",
    "            except ValueError:\n",
    "                print(f\"El valor debe ser un número del 1 al {rango}\")\n",
    "                sleep(0.7)"
   ],
   "metadata": {
    "collapsed": false,
    "ExecuteTime": {
     "end_time": "2024-10-30T11:41:35.011018300Z",
     "start_time": "2024-10-30T11:41:34.993309100Z"
    }
   },
   "id": "e4f066ee1191bdc",
   "execution_count": 165
  },
  {
   "cell_type": "code",
   "outputs": [],
   "source": [
    "# función seleccionar modo\n",
    "def seleccionar_dificultad():\n",
    "    while True:\n",
    "        try:\n",
    "            selec_dificultad = int(input(f\"DIFICULTAD:\\n\"\n",
    "                                         f\"Selecciona 1, 2 o 3.\\n\"\n",
    "                                         f\"1. Fácil (20 intentos).\\n\"\n",
    "                                         f\"2. Medio (12 intentos).\\n\"\n",
    "                                         f\"3. Difícil (5 intentos).\\n\"\n",
    "                                         f\"4. Atrás.\"))\n",
    "            if selec_dificultad not in [1, 2, 3, 4]:   # nos aseguramos que el valor sea el que queremos \n",
    "                raise ValueError\n",
    "            break\n",
    "        except ValueError:\n",
    "            print(\"El valor debe ser 1, 2, 3 o 4\")\n",
    "            sleep(0.7)\n",
    "# asignamos los valores de los intentos a continuación y el valor de salida\n",
    "    if selec_dificultad == 1:\n",
    "        devuelve_dificultad = 19\n",
    "    if selec_dificultad == 2:\n",
    "        devuelve_dificultad = 11\n",
    "    if selec_dificultad == 3:\n",
    "        devuelve_dificultad = 4\n",
    "    if selec_dificultad == 4:\n",
    "        devuelve_dificultad = 3\n",
    "    return devuelve_dificultad \n",
    "        "
   ],
   "metadata": {
    "collapsed": false,
    "ExecuteTime": {
     "end_time": "2024-10-30T11:41:35.011018300Z",
     "start_time": "2024-10-30T11:41:34.997062700Z"
    }
   },
   "id": "11f47bdc61d91422",
   "execution_count": 166
  },
  {
   "cell_type": "code",
   "outputs": [],
   "source": [
    "# función para estructurar el juego\n",
    "def jugar_adivinanza():\n",
    "    while True:  \n",
    "        modo = seleccionar_modo()\n",
    "        if modo == 3:\n",
    "            while True:\n",
    "                clear_output(wait=True)\n",
    "                tipo_estadis, jugador_num = estadistica()\n",
    "                if tipo_estadis == 4:\n",
    "                    break\n",
    "                else:\n",
    "                    operaciones(tipo_estadis, jugador_num)\n",
    "                    break\n",
    "        elif modo == 4:\n",
    "            print(\"Saliendo del juego.\")\n",
    "            break\n",
    "        else:\n",
    "            while True:  \n",
    "                dificultad = seleccionar_dificultad() \n",
    "                if dificultad == 3:\n",
    "                    break  # Salir si se selecciona la opción 4\n",
    "                \n",
    "                n_adivinar, rango = aleatorizar_o_no(modo)  # Obtener el número a adivinar\n",
    "                limite = 0\n",
    "                primer_numero = n_adivinar  # Suponiendo que `n_adivinar` es el número a adivinar\n",
    "                lista_valores = []\n",
    "                \n",
    "                while True:\n",
    "                    clear_output(wait=True)\n",
    "                    while True:\n",
    "                        try:\n",
    "                            numero_segundo_jugador = int(input(\"Adivine el número: \"))\n",
    "                            if numero_segundo_jugador < 1 or numero_segundo_jugador > rango:  # Asegurarse que esté dentro del rango\n",
    "                                raise ValueError\n",
    "                            break  # Salir del bucle si la entrada es válida\n",
    "                        except ValueError:\n",
    "                            print(f\"El valor debe ser un número del 1 al {rango}\")\n",
    "                            sleep(0.3)\n",
    "                    \n",
    "                    lista_valores.append(numero_segundo_jugador)\n",
    "                    limite += 1\n",
    "                    \n",
    "                    if limite > dificultad:\n",
    "                        print(f\"Has alcanzado el número límite de intentos.\\n\"\n",
    "                              f\"El número era: {primer_numero}\")\n",
    "                        sleep(0.3)\n",
    "                        nombre = input(\"Ingrese su nombre: \")\n",
    "                        mi_modulo.exportar_data(nombre, lista_valores, limite, False)  # usamos el módulo creado\n",
    "                        break\n",
    "    \n",
    "                    acertar = comparar_numero(primer_numero, numero_segundo_jugador)\n",
    "                    if acertar == 1:\n",
    "                        print(f\"El número era: {primer_numero}\")\n",
    "                        nombre = input(\"Ingrese su nombre: \")\n",
    "                        mi_modulo.exportar_data(nombre, lista_valores, limite, True)  # uso mi módulo\n",
    "                        break\n",
    "\n",
    "                print(\"Partida finalizada. Volviendo a seleccionar el modo.\")\n",
    "                break  # Volver al menú principal después de la partida"
   ],
   "metadata": {
    "collapsed": false,
    "ExecuteTime": {
     "end_time": "2024-10-30T11:41:35.012018600Z",
     "start_time": "2024-10-30T11:41:35.001632Z"
    }
   },
   "id": "a7eea0c80a7a374a",
   "execution_count": 167
  },
  {
   "cell_type": "code",
   "outputs": [
    {
     "data": {
      "text/plain": "<Figure size 640x480 with 1 Axes>",
      "image/png": "[encoded data removed]"
     },
     "metadata": {},
     "output_type": "display_data"
    },
    {
     "name": "stdout",
     "output_type": "stream",
     "text": [
      "Saliendo del juego.\n"
     ]
    }
   ],
   "source": [
    "jugar_adivinanza()"
   ],
   "metadata": {
    "collapsed": false
   },
   "id": "5af79d1e8530f5a5",
   "execution_count": 168
  }
 ],
 "metadata": {
  "kernelspec": {
   "display_name": "Python 3",
   "language": "python",
   "name": "python3"
  },
  "language_info": {
   "codemirror_mode": {
    "name": "ipython",
    "version": 2
   },
   "file_extension": ".py",
   "mimetype": "text/x-python",
   "name": "python",
   "nbconvert_exporter": "python",
   "pygments_lexer": "ipython2",
   "version": "2.7.6"
  }
 },
 "nbformat": 4,
 "nbformat_minor": 5
}
